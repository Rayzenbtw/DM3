{
  "cells": [
    {
      "cell_type": "markdown",
      "id": "85bcac6d",
      "metadata": {
        "id": "85bcac6d"
      },
      "source": [
        "# ДМ-3. Colab1\n"
      ]
    },
    {
      "cell_type": "markdown",
      "id": "53246585",
      "metadata": {
        "id": "53246585"
      },
      "source": [
        "###  Шигімагін Володимир,МФ-21, варіант №11\n"
      ]
    },
    {
      "cell_type": "code",
      "execution_count": null,
      "id": "971b26e2",
      "metadata": {
        "id": "971b26e2"
      },
      "outputs": [],
      "source": [
        "import numpy as np\n",
        "import pandas as pd\n",
        "import networkx as nx\n",
        "import matplotlib.pyplot as plt\n",
        "import math"
      ]
    },
    {
      "cell_type": "markdown",
      "id": "516a50cb",
      "metadata": {
        "id": "516a50cb"
      },
      "source": [
        "📕 Інструкція з [Markdown](https://www.markdownguide.org)\n",
        "\n",
        "📕 Короткий довідник з набору формул [$\\TeX$](https://ru.wikibooks.org/wiki/%D0%9C%D0%B0%D1%82%D0%B5%D0%BC%D0%B0%D1%82%D0%B8%D1%87%D0%B5%D1%81%D0%BA%D0%B8%D0%B5_%D1%84%D0%BE%D1%80%D0%BC%D1%83%D0%BB%D1%8B_%D0%B2_LaTeX)  "
      ]
    },
    {
      "cell_type": "markdown",
      "id": "e77fd73c",
      "metadata": {
        "id": "e77fd73c"
      },
      "source": [
        "**Користуватись ресурсами в інтернеті та штучним інтелектом не заборонено! Однак, якщо ви використовуєте код, довідкові матеріали з інтернету або літератури, штучний інтелект, ОБОВ'ЯЗКОВО вказуйте посилання на ці матеріали в коментарях! Інакше це буде розцінено як плагіат і завдання не буде зараховано. Також вказуйте, що саме для вас виконав штучний інтелект.**\n",
        "\n",
        "**Виконувати завдання слід САМОСТІЙНО. У разі виявлення однакових розв'язків роботи будуть анульовані!**\n",
        "\n",
        "**Для завдань 1, 2, 3 можна використовувати лише ті пакети, які вказано вище**"
      ]
    },
    {
      "cell_type": "markdown",
      "id": "196bd774",
      "metadata": {
        "id": "196bd774"
      },
      "source": [
        "### Завдання 1: відношення"
      ]
    },
    {
      "cell_type": "markdown",
      "id": "661f1d7a",
      "metadata": {
        "id": "661f1d7a"
      },
      "source": [
        "1️⃣  ✔️ *Знайдіть своє бінарне відношення $R$ у файлі з варіантами та вкажіть тут.*\n",
        "\n",
        "$$\n",
        "R = \\{(x, y) \\in \\mathbb{R}^2 \\mid x^2 \\ge y^2\\}\n",
        "$$\n",
        "\n",
        "Побудуйте графік бінарного відношення $R$. Використовуйте бібліотеку matplotlib.pyplot"
      ]
    },
    {
      "cell_type": "code",
      "execution_count": null,
      "id": "2970baf9",
      "metadata": {
        "id": "2970baf9",
        "outputId": "6f25530a-e0de-4ff1-a469-f723d545ae31"
      },
      "outputs": [
        {
          "data": {
            "image/png": "[encoded data removed]",
            "text/plain": [
              "<Figure size 600x600 with 1 Axes>"
            ]
          },
          "metadata": {},
          "output_type": "display_data"
        }
      ],
      "source": [
        "import numpy as np\n",
        "import matplotlib.pyplot as plt\n",
        "\n",
        "# Створимо сітку точок\n",
        "x = np.linspace(-5, 5, 400)\n",
        "y = np.linspace(-5, 5, 400)\n",
        "X, Y = np.meshgrid(x, y)\n",
        "\n",
        "# Умова відношення R: x^2 >= y^2\n",
        "R = X**2 >= Y**2\n",
        "\n",
        "# Побудова графіка\n",
        "plt.figure(figsize=(6,6))\n",
        "plt.contourf(X, Y, R, levels=[0, 1], colors=['lightblue'], alpha=0.7)\n",
        "\n",
        "# Лінії x = y та x = -y\n",
        "plt.plot(x, x, 'r--', label='y = x')\n",
        "plt.plot(x, -x, 'g--', label='y = -x')\n",
        "\n",
        "# Оформлення графіка\n",
        "plt.title('R = {(x, y) ∈ ℝ² | x² ≥ y²}', fontsize=14)\n",
        "plt.xlabel('x')\n",
        "plt.ylabel('y')\n",
        "plt.legend()\n",
        "plt.grid(True)\n",
        "plt.axis('equal')\n",
        "plt.show()\n"
      ]
    },
    {
      "cell_type": "markdown",
      "id": "8d9772b1",
      "metadata": {
        "id": "8d9772b1"
      },
      "source": [
        "<font color=\"red\"> *Коментар викладача:* <font>"
      ]
    },
    {
      "cell_type": "markdown",
      "id": "50a02df4",
      "metadata": {
        "id": "50a02df4"
      },
      "source": [
        "2️⃣  З'ясуйте, чи є $R$ рефлексивним, симетричним, транзитивним.\n",
        "\n",
        "✔️ *Відповіді й поянення запишіть тут.*\n",
        "\n",
        "Для будь-якого $x \\in \\mathbb{R}$ маємо $x^2 \\ge x^2$.  \n",
        "Отже, $(x, x) \\in R$ для всіх $x$.  \n",
        "**⇒ $R$ рефлексивне.**\n",
        "\n",
        "Якщо $(x, y) \\in R$, то $x^2 \\ge y^2$.  \n",
        "Для симетрії потрібно, щоб також $(y, x) \\in R$, тобто $y^2 \\ge x^2$.  \n",
        "Це не завжди виконується. \n",
        "\n",
        "Якщо $(x, y) \\in R$ і $(y, z) \\in R$, то  \n",
        "$x^2 \\ge y^2$ і $y^2 \\ge z^2 \\Rightarrow x^2 \\ge z^2$.  \n",
        "Тоді $(x, z) \\in R$.  \n",
        "**⇒ $R$ транзитивне.**"
      ]
    },
    {
      "cell_type": "markdown",
      "id": "220e872d",
      "metadata": {
        "id": "220e872d"
      },
      "source": [
        "<font color=\"red\"> *Коментар викладача:* <font>"
      ]
    },
    {
      "cell_type": "markdown",
      "id": "5cf0e45a",
      "metadata": {
        "id": "5cf0e45a"
      },
      "source": [
        "3️⃣ ✔️ *Знайдіть свій чум $P$ у файлі з варіантами та вкажіть тут*\n",
        "\n",
        "$P -$ множина дiльникiв числа 50, впорядкована за подiльнiстю.\n",
        "\n",
        "Побудуйте діаграму Гассе $P$. Ви можете використовувати бібліотеку для роботи із графами networkx (https://networkx.org/documentation/stable/)\n",
        "$Використовував:$ \n",
        "1) https://uk.wikipedia.org/wiki/%D0%94%D1%96%D0%B0%D0%B3%D1%80%D0%B0%D0%BC%D0%B0_%D0%93%D0%B0%D1%81%D1%81%D0%B5\n",
        "\n",
        "2)https://ru.wikipedia.org/wiki/%D0%94%D0%B8%D0%B0%D0%B3%D1%80%D0%B0%D0%BC%D0%BC%D0%B0_%D0%A5%D0%B0%D1%81%D1%81%D0%B5\n",
        "\n",
        "3)https://github.com/SimonHegele/hasseNetworkx\n",
        "\n",
        "4)https://ru.wikipedia.org/wiki/%D0%A7%D0%B0%D1%81%D1%82%D0%B8%D1%87%D0%BD%D0%BE_%D1%83%D0%BF%D0%BE%D1%80%D1%8F%D0%B4%D0%BE%D1%87%D0%B5%D0%BD%D0%BD%D0%BE%D0%B5_%D0%BC%D0%BD%D0%BE%D0%B6%D0%B5%D1%81%D1%82%D0%B2%D0%BE\n"
      ]
    },
    {
      "cell_type": "markdown",
      "id": "62cce0ef",
      "metadata": {
        "id": "62cce0ef"
      },
      "source": [
        "*Якщо networkx не захоче малювати граф і видасть помилку random_state_index is incorrect, слід зменшити версію пакета decorator до 5.0.5. Якщо у вас Windows та Anaconda, то у вікні Anaconda Prompt достатньо набрати pip install decorator==5.0.5*"
      ]
    },
    {
      "cell_type": "code",
      "execution_count": null,
      "id": "7916dc97",
      "metadata": {},
      "outputs": [
        {
          "data": {
            "image/png": "[encoded data removed]",
            "text/plain": [
              "<Figure size 500x600 with 1 Axes>"
            ]
          },
          "metadata": {},
          "output_type": "display_data"
        }
      ],
      "source": [
        "#для написання коду, та для поясненя деяких моментів у діаграмі Гассе викоритсовував Chatgpt, та також матеріали написані вище\n",
        "import networkx as nx\n",
        "import matplotlib.pyplot as plt\n",
        "\n",
        "# множина дільників числа 50\n",
        "P = [1, 2, 5, 10, 25, 50]\n",
        "\n",
        "# ребра покриття (відношення подільності)\n",
        "edges = [\n",
        "    (1, 2),\n",
        "    (1, 5),\n",
        "    (2, 10),\n",
        "    (5, 10),\n",
        "    (5, 25),\n",
        "    (10, 50),\n",
        "    (25, 50)\n",
        "]\n",
        "\n",
        "# створюємо орієнтований граф\n",
        "G = nx.DiGraph()\n",
        "G.add_nodes_from(P)\n",
        "G.add_edges_from(edges)\n",
        "\n",
        "# визначаємо \"рівень\" кожної вершини\n",
        "levels = {1: 0, 2: 1, 5: 1, 10: 2, 25: 2, 50: 3}\n",
        "\n",
        "# вручну створюємо позиції для вертикального розташування\n",
        "pos = {\n",
        "    1: (0, 0),\n",
        "    2: (-1, 1),\n",
        "    5: (1, 1),\n",
        "    10: (-1, 2),\n",
        "    25: (1, 2),\n",
        "    50: (0, 3)\n",
        "}\n",
        "\n",
        "# малюємо граф\n",
        "plt.figure(figsize=(5, 6))\n",
        "nx.draw(\n",
        "    G, pos, with_labels=True, node_color='lightblue',\n",
        "    node_size=1500, font_size=14, font_weight='bold'\n",
        ")\n",
        "nx.draw_networkx_edges(G, pos, arrows=False)\n",
        "\n",
        "plt.title(\"Діаграма Гассе для множини дільників числа 50\", fontsize=12)\n",
        "plt.axis('off')\n",
        "plt.show()\n"
      ]
    },
    {
      "cell_type": "markdown",
      "id": "ac5b2ddb",
      "metadata": {
        "id": "ac5b2ddb"
      },
      "source": [
        "<font color=\"red\"> *Коментар викладача:* <font>"
      ]
    },
    {
      "cell_type": "markdown",
      "id": "02120c38",
      "metadata": {
        "id": "02120c38"
      },
      "source": [
        "4️⃣ Напишіть функцію для обчислення значень функції Мебіуса на $P$. Виведіть їх у вигляді таблиці.\n",
        "\n",
        "Ви можете використовувати пакет pandas (https://pandas.pydata.org/docs/user_guide/index.html)\n",
        "для створення та виведення таблиці.\n",
        "\n",
        "Вам можуть знадобитися інструменти пакету networkx для\n",
        "\n",
        "1) пошуку інтервалів у чум (див. networkx.algorithms.simple_paths.all_simple_paths)\n",
        "\n",
        "2) упорядкування вершин діаграми Гассе ''за рівнями'' (див. networkx.algorithms.traversal.breadth_first_search.bfs_tree)\n",
        "\n",
        "Використано https://git.scicore.unibas.ch/schwede/mobius/-/blob/9df84a4762c3bb2abdaae5c2b00819d7dd8aa2f4/mobius/mobius.py, та допомогу chatgpt \n",
        "https://ru.wikipedia.org/wiki/%D0%A4%D1%83%D0%BD%D0%BA%D1%86%D0%B8%D1%8F_%D0%9C%D1%91%D0%B1%D0%B8%D1%83%D1%81%D0%B0\n"
      ]
    },
    {
      "cell_type": "code",
      "execution_count": 10,
      "id": "17b9b76a",
      "metadata": {
        "id": "17b9b76a"
      },
      "outputs": [
        {
          "name": "stdout",
          "output_type": "stream",
          "text": [
            "Levels (for layout): {1: 0, 2: 1, 5: 1, 10: 2, 25: 2, 50: 3}\n",
            "\n",
            "Möbius μ(x,y) on divisors of 50:\n",
            "\n",
            "     1    2    5    10   25   50\n",
            "1   1.0 -1.0 -1.0  1.0  0.0  0.0\n",
            "2   0.0  1.0  0.0 -1.0  0.0  0.0\n",
            "5   0.0  0.0  1.0 -1.0 -1.0  1.0\n",
            "10  0.0  0.0  0.0  1.0  0.0 -1.0\n",
            "25  0.0  0.0  0.0  0.0  1.0 -1.0\n",
            "50  0.0  0.0  0.0  0.0  0.0  1.0\n"
          ]
        }
      ],
      "source": [
        "# Möbius function table on a finite poset + example for divisors of 50\n",
        "import pandas as pd\n",
        "import networkx as nx\n",
        "\n",
        "def mobius_table(P, order):\n",
        "    \"\"\"\n",
        "    Compute the Möbius function μ(x, y) on a finite poset (P, ≤) given by `order(x, y)`.\n",
        "    Returns:\n",
        "        df: pandas.DataFrame with rows x in P, cols y in P containing μ(x,y) (0 if x ≰ y)\n",
        "        G: nx.DiGraph of the Hasse diagram (edges are covers x -> y with x < y)\n",
        "        levels: dict mapping node -> BFS level (useful for pretty ordering)\n",
        "    \"\"\"\n",
        "    # keep user order but deduplicate\n",
        "    P = list(dict.fromkeys(P))\n",
        "\n",
        "    def lt(a, b):  # strict order\n",
        "        return a != b and order(a, b)\n",
        "\n",
        "    # Build Hasse covers: a -> b iff a < b and no c with a < c < b\n",
        "    edges = []\n",
        "    for a in P:\n",
        "        for b in P:\n",
        "            if lt(a, b):\n",
        "                if not any(lt(a, c) and lt(c, b) for c in P):\n",
        "                    edges.append((a, b))\n",
        "\n",
        "    G = nx.DiGraph()\n",
        "    G.add_nodes_from(P)\n",
        "    G.add_edges_from(edges)\n",
        "\n",
        "    # Minimal elements (no predecessors)\n",
        "    minimal = [v for v in P if all(not lt(u, v) for u in P)]\n",
        "\n",
        "    # BFS levels via a virtual root to handle multiple minima\n",
        "    H = G.copy()\n",
        "    _root = object()\n",
        "    H.add_node(_root)\n",
        "    for m in minimal:\n",
        "        H.add_edge(_root, m)\n",
        "    T = nx.bfs_tree(H, _root)\n",
        "    levels = {n: nx.shortest_path_length(T, _root, n) - 1\n",
        "              for n in T.nodes() if n is not _root}\n",
        "\n",
        "    # Sort by (level, then element) for stable recursion\n",
        "    try:\n",
        "        P_sorted = sorted(P, key=lambda x: (levels.get(x, 0), x))\n",
        "    except TypeError:\n",
        "        idx = {x: i for i, x in enumerate(P)}\n",
        "        P_sorted = sorted(P, key=lambda x: (levels.get(x, 0), idx[x]))\n",
        "\n",
        "    # Möbius recursion:\n",
        "    # μ(x,x)=1; for x<y: sum_{x≤z≤y} μ(x,z)=0  ⇒  μ(x,y) = -∑_{x≤z<y} μ(x,z)\n",
        "    mu = {(x, y): 0 for x in P for y in P}\n",
        "    for x in P_sorted:\n",
        "        mu[(x, x)] = 1\n",
        "        for y in P_sorted:\n",
        "            if x == y:\n",
        "                continue\n",
        "            if order(x, y):\n",
        "                s = 0\n",
        "                for z in P:\n",
        "                    if order(x, z) and z != y and order(z, y):\n",
        "                        s += mu[(x, z)]\n",
        "                mu[(x, y)] = -s\n",
        "            else:\n",
        "                mu[(x, y)] = 0\n",
        "\n",
        "    df = pd.DataFrame(index=P_sorted, columns=P_sorted, dtype=int)\n",
        "    for x in P_sorted:\n",
        "        for y in P_sorted:\n",
        "            df.loc[x, y] = mu[(x, y)]\n",
        "    return df, G, levels\n",
        "\n",
        "\n",
        "# ---------- Example: divisors of 50 with divisibility order ----------\n",
        "P = [1, 2, 5, 10, 25, 50]\n",
        "\n",
        "def divides(a, b):\n",
        "    return b % a == 0\n",
        "\n",
        "df, G, levels = mobius_table(P, divides)\n",
        "\n",
        "print(\"Levels (for layout):\", levels)\n",
        "print(\"\\nMöbius μ(x,y) on divisors of 50:\\n\")\n",
        "print(df)\n"
      ]
    },
    {
      "cell_type": "markdown",
      "id": "6e64c118",
      "metadata": {
        "id": "6e64c118"
      },
      "source": [
        "<font color=\"red\"> *Коментар викладача:* <font>"
      ]
    },
    {
      "cell_type": "markdown",
      "id": "818945e1",
      "metadata": {
        "id": "818945e1"
      },
      "source": [
        "### Завдання 2: групи"
      ]
    },
    {
      "cell_type": "markdown",
      "id": "5b5b31ce",
      "metadata": {},
      "source": [
        "Джерела:https://ru.wikipedia.org/wiki/%D0%A2%D0%B0%D0%B1%D0%BB%D0%B8%D1%86%D0%B0_%D0%9A%D1%8D%D0%BB%D0%B8\n",
        "\n",
        "https://ru.wikipedia.org/wiki/%D0%90%D0%B1%D0%B5%D0%BB%D0%B5%D0%B2%D0%B0_%D0%B3%D1%80%D1%83%D0%BF%D0%BF%D0%B0\n",
        "\n",
        "https://ukrayinska.libretexts.org/%D0%9C%D0%B0%D1%82%D0%B5%D0%BC%D0%B0%D1%82%D0%B8%D0%BA%D0%B0/%D0%9A%D0%BE%D0%BC%D0%B1%D1%96%D0%BD%D0%B0%D1%82%D0%BE%D1%80%D0%B8%D0%BA%D0%B0_%D1%82%D0%B0_%D0%B4%D0%B8%D1%81%D0%BA%D1%80%D0%B5%D1%82%D0%BD%D0%B0_%D0%BC%D0%B0%D1%82%D0%B5%D0%BC%D0%B0%D1%82%D0%B8%D0%BA%D0%B0/%D0%9F%D1%80%D0%B8%D0%BA%D0%BB%D0%B0%D0%B4%D0%BD%D1%96_%D0%B4%D0%B8%D1%81%D0%BA%D1%80%D0%B5%D1%82%D0%BD%D1%96_%D1%81%D1%82%D1%80%D1%83%D0%BA%D1%82%D1%83%D1%80%D0%B8_(Doerr_%D1%96_Levasseur)/15%3A_%D0%A2%D0%B5%D0%BE%D1%80%D1%96%D1%8F_%D0%B3%D1%80%D1%83%D0%BF_%D1%82%D0%B0_%D0%BF%D1%80%D0%BE%D0%B3%D1%80%D0%B0%D0%BC%D0%B8/15.01%3A_%D0%A6%D0%B8%D0%BA%D0%BB%D1%96%D1%87%D0%BD%D1%96_%D0%B3%D1%80%D1%83%D0%BF%D0%B8\n",
        "\n",
        "https://uk.wikipedia.org/wiki/%D0%9F%D0%BE%D1%80%D0%BE%D0%B4%D0%B6%D1%83%D0%B2%D0%B0%D0%BB%D1%8C%D0%BD%D0%B0_%D0%BC%D0%BD%D0%BE%D0%B6%D0%B8%D0%BD%D0%B0_%D0%B3%D1%80%D1%83%D0%BF%D0%B8\n",
        "\n",
        "Chatgpt(для написання коду та для поясненя мені багатьох незрозумілих меня моментів), \n"
      ]
    },
    {
      "cell_type": "markdown",
      "id": "72b01d3c",
      "metadata": {
        "id": "72b01d3c"
      },
      "source": [
        "\n",
        "$$\n",
        "\\text{Група } \\mathbb{Z}_3 \\times \\mathbb{Z}_4, \\text{ елементами якої є пари } (a, b), \n",
        "\\text{ де } a \\in \\mathbb{Z}_3, \\; b \\in \\mathbb{Z}_4, \n",
        "\\text{ а операцію визначено як покомпонентне додавання.}\n",
        "$$\n",
        "\n"
      ]
    },
    {
      "cell_type": "markdown",
      "id": "3cea43b2",
      "metadata": {
        "id": "3cea43b2"
      },
      "source": [
        "1️⃣ Складіть таблицю множення.\n",
        "\n",
        "Ви можете використати бібліотеку pandas, щоб вивести таблицю у зручному вигляді\n",
        "\n",
        "Будь ласка, забезпечте розв'язок коментарями, як саме ви обчислюєте елементи таблиці (власноруч, подаючи підстановками,\n",
        "реалізуючи деяку функцію, знайшли готову в інтернеті тощо)"
      ]
    },
    {
      "cell_type": "code",
      "execution_count": 11,
      "id": "662b599f",
      "metadata": {},
      "outputs": [
        {
          "data": {
            "text/html": [
              "<div>\n",
              "<style scoped>\n",
              "    .dataframe tbody tr th:only-of-type {\n",
              "        vertical-align: middle;\n",
              "    }\n",
              "\n",
              "    .dataframe tbody tr th {\n",
              "        vertical-align: top;\n",
              "    }\n",
              "\n",
              "    .dataframe thead th {\n",
              "        text-align: right;\n",
              "    }\n",
              "</style>\n",
              "<table border=\"1\" class=\"dataframe\">\n",
              "  <thead>\n",
              "    <tr style=\"text-align: right;\">\n",
              "      <th></th>\n",
              "      <th>(0, 0)</th>\n",
              "      <th>(0, 1)</th>\n",
              "      <th>(0, 2)</th>\n",
              "      <th>(0, 3)</th>\n",
              "      <th>(1, 0)</th>\n",
              "      <th>(1, 1)</th>\n",
              "      <th>(1, 2)</th>\n",
              "      <th>(1, 3)</th>\n",
              "      <th>(2, 0)</th>\n",
              "      <th>(2, 1)</th>\n",
              "      <th>(2, 2)</th>\n",
              "      <th>(2, 3)</th>\n",
              "    </tr>\n",
              "  </thead>\n",
              "  <tbody>\n",
              "    <tr>\n",
              "      <th>(0, 0)</th>\n",
              "      <td>(0, 0)</td>\n",
              "      <td>(0, 1)</td>\n",
              "      <td>(0, 2)</td>\n",
              "      <td>(0, 3)</td>\n",
              "      <td>(1, 0)</td>\n",
              "      <td>(1, 1)</td>\n",
              "      <td>(1, 2)</td>\n",
              "      <td>(1, 3)</td>\n",
              "      <td>(2, 0)</td>\n",
              "      <td>(2, 1)</td>\n",
              "      <td>(2, 2)</td>\n",
              "      <td>(2, 3)</td>\n",
              "    </tr>\n",
              "    <tr>\n",
              "      <th>(0, 1)</th>\n",
              "      <td>(0, 1)</td>\n",
              "      <td>(0, 2)</td>\n",
              "      <td>(0, 3)</td>\n",
              "      <td>(0, 0)</td>\n",
              "      <td>(1, 1)</td>\n",
              "      <td>(1, 2)</td>\n",
              "      <td>(1, 3)</td>\n",
              "      <td>(1, 0)</td>\n",
              "      <td>(2, 1)</td>\n",
              "      <td>(2, 2)</td>\n",
              "      <td>(2, 3)</td>\n",
              "      <td>(2, 0)</td>\n",
              "    </tr>\n",
              "    <tr>\n",
              "      <th>(0, 2)</th>\n",
              "      <td>(0, 2)</td>\n",
              "      <td>(0, 3)</td>\n",
              "      <td>(0, 0)</td>\n",
              "      <td>(0, 1)</td>\n",
              "      <td>(1, 2)</td>\n",
              "      <td>(1, 3)</td>\n",
              "      <td>(1, 0)</td>\n",
              "      <td>(1, 1)</td>\n",
              "      <td>(2, 2)</td>\n",
              "      <td>(2, 3)</td>\n",
              "      <td>(2, 0)</td>\n",
              "      <td>(2, 1)</td>\n",
              "    </tr>\n",
              "    <tr>\n",
              "      <th>(0, 3)</th>\n",
              "      <td>(0, 3)</td>\n",
              "      <td>(0, 0)</td>\n",
              "      <td>(0, 1)</td>\n",
              "      <td>(0, 2)</td>\n",
              "      <td>(1, 3)</td>\n",
              "      <td>(1, 0)</td>\n",
              "      <td>(1, 1)</td>\n",
              "      <td>(1, 2)</td>\n",
              "      <td>(2, 3)</td>\n",
              "      <td>(2, 0)</td>\n",
              "      <td>(2, 1)</td>\n",
              "      <td>(2, 2)</td>\n",
              "    </tr>\n",
              "    <tr>\n",
              "      <th>(1, 0)</th>\n",
              "      <td>(1, 0)</td>\n",
              "      <td>(1, 1)</td>\n",
              "      <td>(1, 2)</td>\n",
              "      <td>(1, 3)</td>\n",
              "      <td>(2, 0)</td>\n",
              "      <td>(2, 1)</td>\n",
              "      <td>(2, 2)</td>\n",
              "      <td>(2, 3)</td>\n",
              "      <td>(0, 0)</td>\n",
              "      <td>(0, 1)</td>\n",
              "      <td>(0, 2)</td>\n",
              "      <td>(0, 3)</td>\n",
              "    </tr>\n",
              "    <tr>\n",
              "      <th>(1, 1)</th>\n",
              "      <td>(1, 1)</td>\n",
              "      <td>(1, 2)</td>\n",
              "      <td>(1, 3)</td>\n",
              "      <td>(1, 0)</td>\n",
              "      <td>(2, 1)</td>\n",
              "      <td>(2, 2)</td>\n",
              "      <td>(2, 3)</td>\n",
              "      <td>(2, 0)</td>\n",
              "      <td>(0, 1)</td>\n",
              "      <td>(0, 2)</td>\n",
              "      <td>(0, 3)</td>\n",
              "      <td>(0, 0)</td>\n",
              "    </tr>\n",
              "    <tr>\n",
              "      <th>(1, 2)</th>\n",
              "      <td>(1, 2)</td>\n",
              "      <td>(1, 3)</td>\n",
              "      <td>(1, 0)</td>\n",
              "      <td>(1, 1)</td>\n",
              "      <td>(2, 2)</td>\n",
              "      <td>(2, 3)</td>\n",
              "      <td>(2, 0)</td>\n",
              "      <td>(2, 1)</td>\n",
              "      <td>(0, 2)</td>\n",
              "      <td>(0, 3)</td>\n",
              "      <td>(0, 0)</td>\n",
              "      <td>(0, 1)</td>\n",
              "    </tr>\n",
              "    <tr>\n",
              "      <th>(1, 3)</th>\n",
              "      <td>(1, 3)</td>\n",
              "      <td>(1, 0)</td>\n",
              "      <td>(1, 1)</td>\n",
              "      <td>(1, 2)</td>\n",
              "      <td>(2, 3)</td>\n",
              "      <td>(2, 0)</td>\n",
              "      <td>(2, 1)</td>\n",
              "      <td>(2, 2)</td>\n",
              "      <td>(0, 3)</td>\n",
              "      <td>(0, 0)</td>\n",
              "      <td>(0, 1)</td>\n",
              "      <td>(0, 2)</td>\n",
              "    </tr>\n",
              "    <tr>\n",
              "      <th>(2, 0)</th>\n",
              "      <td>(2, 0)</td>\n",
              "      <td>(2, 1)</td>\n",
              "      <td>(2, 2)</td>\n",
              "      <td>(2, 3)</td>\n",
              "      <td>(0, 0)</td>\n",
              "      <td>(0, 1)</td>\n",
              "      <td>(0, 2)</td>\n",
              "      <td>(0, 3)</td>\n",
              "      <td>(1, 0)</td>\n",
              "      <td>(1, 1)</td>\n",
              "      <td>(1, 2)</td>\n",
              "      <td>(1, 3)</td>\n",
              "    </tr>\n",
              "    <tr>\n",
              "      <th>(2, 1)</th>\n",
              "      <td>(2, 1)</td>\n",
              "      <td>(2, 2)</td>\n",
              "      <td>(2, 3)</td>\n",
              "      <td>(2, 0)</td>\n",
              "      <td>(0, 1)</td>\n",
              "      <td>(0, 2)</td>\n",
              "      <td>(0, 3)</td>\n",
              "      <td>(0, 0)</td>\n",
              "      <td>(1, 1)</td>\n",
              "      <td>(1, 2)</td>\n",
              "      <td>(1, 3)</td>\n",
              "      <td>(1, 0)</td>\n",
              "    </tr>\n",
              "    <tr>\n",
              "      <th>(2, 2)</th>\n",
              "      <td>(2, 2)</td>\n",
              "      <td>(2, 3)</td>\n",
              "      <td>(2, 0)</td>\n",
              "      <td>(2, 1)</td>\n",
              "      <td>(0, 2)</td>\n",
              "      <td>(0, 3)</td>\n",
              "      <td>(0, 0)</td>\n",
              "      <td>(0, 1)</td>\n",
              "      <td>(1, 2)</td>\n",
              "      <td>(1, 3)</td>\n",
              "      <td>(1, 0)</td>\n",
              "      <td>(1, 1)</td>\n",
              "    </tr>\n",
              "    <tr>\n",
              "      <th>(2, 3)</th>\n",
              "      <td>(2, 3)</td>\n",
              "      <td>(2, 0)</td>\n",
              "      <td>(2, 1)</td>\n",
              "      <td>(2, 2)</td>\n",
              "      <td>(0, 3)</td>\n",
              "      <td>(0, 0)</td>\n",
              "      <td>(0, 1)</td>\n",
              "      <td>(0, 2)</td>\n",
              "      <td>(1, 3)</td>\n",
              "      <td>(1, 0)</td>\n",
              "      <td>(1, 1)</td>\n",
              "      <td>(1, 2)</td>\n",
              "    </tr>\n",
              "  </tbody>\n",
              "</table>\n",
              "</div>"
            ],
            "text/plain": [
              "        (0, 0)  (0, 1)  (0, 2)  (0, 3)  (1, 0)  (1, 1)  (1, 2)  (1, 3)  \\\n",
              "(0, 0)  (0, 0)  (0, 1)  (0, 2)  (0, 3)  (1, 0)  (1, 1)  (1, 2)  (1, 3)   \n",
              "(0, 1)  (0, 1)  (0, 2)  (0, 3)  (0, 0)  (1, 1)  (1, 2)  (1, 3)  (1, 0)   \n",
              "(0, 2)  (0, 2)  (0, 3)  (0, 0)  (0, 1)  (1, 2)  (1, 3)  (1, 0)  (1, 1)   \n",
              "(0, 3)  (0, 3)  (0, 0)  (0, 1)  (0, 2)  (1, 3)  (1, 0)  (1, 1)  (1, 2)   \n",
              "(1, 0)  (1, 0)  (1, 1)  (1, 2)  (1, 3)  (2, 0)  (2, 1)  (2, 2)  (2, 3)   \n",
              "(1, 1)  (1, 1)  (1, 2)  (1, 3)  (1, 0)  (2, 1)  (2, 2)  (2, 3)  (2, 0)   \n",
              "(1, 2)  (1, 2)  (1, 3)  (1, 0)  (1, 1)  (2, 2)  (2, 3)  (2, 0)  (2, 1)   \n",
              "(1, 3)  (1, 3)  (1, 0)  (1, 1)  (1, 2)  (2, 3)  (2, 0)  (2, 1)  (2, 2)   \n",
              "(2, 0)  (2, 0)  (2, 1)  (2, 2)  (2, 3)  (0, 0)  (0, 1)  (0, 2)  (0, 3)   \n",
              "(2, 1)  (2, 1)  (2, 2)  (2, 3)  (2, 0)  (0, 1)  (0, 2)  (0, 3)  (0, 0)   \n",
              "(2, 2)  (2, 2)  (2, 3)  (2, 0)  (2, 1)  (0, 2)  (0, 3)  (0, 0)  (0, 1)   \n",
              "(2, 3)  (2, 3)  (2, 0)  (2, 1)  (2, 2)  (0, 3)  (0, 0)  (0, 1)  (0, 2)   \n",
              "\n",
              "        (2, 0)  (2, 1)  (2, 2)  (2, 3)  \n",
              "(0, 0)  (2, 0)  (2, 1)  (2, 2)  (2, 3)  \n",
              "(0, 1)  (2, 1)  (2, 2)  (2, 3)  (2, 0)  \n",
              "(0, 2)  (2, 2)  (2, 3)  (2, 0)  (2, 1)  \n",
              "(0, 3)  (2, 3)  (2, 0)  (2, 1)  (2, 2)  \n",
              "(1, 0)  (0, 0)  (0, 1)  (0, 2)  (0, 3)  \n",
              "(1, 1)  (0, 1)  (0, 2)  (0, 3)  (0, 0)  \n",
              "(1, 2)  (0, 2)  (0, 3)  (0, 0)  (0, 1)  \n",
              "(1, 3)  (0, 3)  (0, 0)  (0, 1)  (0, 2)  \n",
              "(2, 0)  (1, 0)  (1, 1)  (1, 2)  (1, 3)  \n",
              "(2, 1)  (1, 1)  (1, 2)  (1, 3)  (1, 0)  \n",
              "(2, 2)  (1, 2)  (1, 3)  (1, 0)  (1, 1)  \n",
              "(2, 3)  (1, 3)  (1, 0)  (1, 1)  (1, 2)  "
            ]
          },
          "execution_count": 11,
          "metadata": {},
          "output_type": "execute_result"
        }
      ],
      "source": [
        "import pandas as pd\n",
        "\n",
        "# Елементи групи Z3 × Z4\n",
        "Z3 = [0, 1, 2]\n",
        "Z4 = [0, 1, 2, 3]\n",
        "elements = [(a, b) for a in Z3 for b in Z4]\n",
        "\n",
        "# Функція покомпонентного додавання\n",
        "def add(pair1, pair2):\n",
        "    a1, b1 = pair1\n",
        "    a2, b2 = pair2\n",
        "    return ((a1 + a2) % 3, (b1 + b2) % 4)\n",
        "\n",
        "mult_table = pd.DataFrame(columns=elements, index=elements)\n",
        "\n",
        "# Заповнюємо таблицю\n",
        "for x in elements:\n",
        "    mult_table[x] = [add(y, x) for y in elements]  # додаємо \"праворуч\" — за аналогією до xy у прикладі S3\n",
        "\n",
        "# Вивід результату\n",
        "mult_table\n"
      ]
    },
    {
      "cell_type": "markdown",
      "id": "e824da1a",
      "metadata": {
        "id": "e824da1a"
      },
      "source": [
        "<font color=\"red\"> *Коментар викладача:* <font>"
      ]
    },
    {
      "cell_type": "markdown",
      "id": "762d7b67",
      "metadata": {
        "id": "762d7b67"
      },
      "source": [
        "2️⃣ Охарактеризуйте групу. Чому дорівнює її порядок? Чи є група абелевою? Чи є група циклічною?\n",
        "\n",
        "✔️ *Свої спостереження напишіть тут.*\n",
        "\n",
        "Характеристика групи:\n",
        "Порядок: 3*4 = 12\n",
        "\n",
        "\n",
        "Абелева група(Де всі операції комутативні): \n",
        "\n",
        "Операція(покомпонентне додавання):\n",
        "$$\n",
        "(a,b) + (c,d) := \\big((a+c)\\bmod 3,\\; (b+d)\\bmod 4\\big).\n",
        "$$\n",
        "\n",
        "Оскільки додавання у $\\mathbb{Z}_3$ і $\\mathbb{Z}_4$ комутативне, тобто  \n",
        "$$\n",
        "a + c \\equiv c + a \\pmod{3}, \\qquad b + d \\equiv d + b \\pmod{4},\n",
        "$$\n",
        "то для будь-яких $(a,b), (c,d) \\in \\mathbb{Z}_3 \\times \\mathbb{Z}_4$ маємо  \n",
        "$$\n",
        "(a,b) + (c,d) = (c,d) + (a,b).\n",
        "$$\n",
        "\n",
        "Отже, група $\\mathbb{Z}_3 \\times \\mathbb{Z}_4$ є **абелевою**, тобто всі її елементи комутують відносно заданої операції.\n"
      ]
    },
    {
      "cell_type": "markdown",
      "id": "e8ecbf16",
      "metadata": {},
      "source": [
        "Нехай  \n",
        "$$\n",
        "\\mathbb{Z}_3 \\times \\mathbb{Z}_4 = \\{(a,b)\\mid a\\in \\mathbb{Z}_3,\\; b\\in \\mathbb{Z}_4\\},\n",
        "$$\n",
        "а операція визначена як покомпонентне додавання за модулем:\n",
        "$$\n",
        "(a,b) + (c,d) := \\big((a+c)\\bmod 3,\\; (b+d)\\bmod 4\\big).\n",
        "$$\n",
        "\n",
        "Пряма сума двох циклічних груп порядків $m$ і $n$\n",
        "$$\n",
        "\\mathbb{Z}_m \\times \\mathbb{Z}_n\n",
        "$$\n",
        "є циклічною тоді й лише тоді, коли $\\gcd(m,n)=1$. У нашому випадку\n",
        "$$\n",
        "\\gcd(3,4)=1 \\;\\;\\Rightarrow\\;\\; \\mathbb{Z}_3 \\times \\mathbb{Z}_4 \\cong \\mathbb{Z}_{12}.\n",
        "$$\n",
        "Порядок групи\n",
        "$$\n",
        "\\lvert \\mathbb{Z}_3 \\times \\mathbb{Z}_4 \\rvert = 3\\cdot 4 = 12.\n",
        "$$\n",
        "\n",
        "Для будь-якого $(a,b)$ його порядок дорівнює\n",
        "$$\n",
        "\\operatorname{ord}(a,b)=\\operatorname{lcm}\\big(\\operatorname{ord}(a),\\operatorname{ord}(b)\\big).\n",
        "$$\n",
        "Оскільки $\\operatorname{ord}(1\\!\\!\\mod 3)=3$ і $\\operatorname{ord}(1\\!\\!\\mod 4)=4$, маємо\n",
        "$$\n",
        "\\operatorname{ord}\\big((1,1)\\big)=\\operatorname{lcm}(3,4)=12.\n",
        "$$\n",
        "\n",
        "Елемент $(1,1)$ породжує всю групу:\n",
        "$$\n",
        "\\langle (1,1)\\rangle=\\{\\,k\\cdot(1,1)\\mid k=0,1,\\dots,11\\,\\}=\\mathbb{Z}_3\\times\\mathbb{Z}_4,\n",
        "$$\n",
        "де\n",
        "$$\n",
        "k\\cdot(1,1)=\\big(k\\bmod 3,\\; k\\bmod 4\\big).\n",
        "$$\n",
        "\n",
        "Усі $12$ значень різні, після чого цикл повторюється, отже $(1,1)$ має порядок $12$ і є генератором.\n",
        "\n",
        "**Висновок.** Група $\\mathbb{Z}_3 \\times \\mathbb{Z}_4$ **циклічна**; зокрема, її можна ототожнити з $\\mathbb{Z}_{12}$, а приклад генератора — $(1,1)$ (також підійдуть $(1,3)$, $(2,1)$, $(2,3)$).\n"
      ]
    },
    {
      "cell_type": "markdown",
      "id": "b3144f1c",
      "metadata": {
        "id": "b3144f1c"
      },
      "source": [
        "<font color=\"red\"> *Коментар викладача:* <font>"
      ]
    },
    {
      "cell_type": "markdown",
      "id": "8a8eb5c2",
      "metadata": {
        "id": "8a8eb5c2"
      },
      "source": [
        "3️⃣ Напишіть функцію, яка обчислює порядок елемента групи. Знайдіть порядки всіх елементів групи."
      ]
    },
    {
      "cell_type": "code",
      "execution_count": 15,
      "id": "7e061ccf",
      "metadata": {
        "id": "7e061ccf"
      },
      "outputs": [
        {
          "name": "stdout",
          "output_type": "stream",
          "text": [
            "Order of (0, 0) equals 1\n",
            "Order of (0, 1) equals 4\n",
            "Order of (0, 2) equals 2\n",
            "Order of (0, 3) equals 4\n",
            "Order of (1, 0) equals 3\n",
            "Order of (1, 1) equals 12\n",
            "Order of (1, 2) equals 6\n",
            "Order of (1, 3) equals 12\n",
            "Order of (2, 0) equals 3\n",
            "Order of (2, 1) equals 12\n",
            "Order of (2, 2) equals 6\n",
            "Order of (2, 3) equals 12\n"
          ]
        }
      ],
      "source": [
        "import pandas as pd\n",
        "#групи Z3 × Z4\n",
        "Z3 = [0, 1, 2]\n",
        "Z4 = [0, 1, 2, 3]\n",
        "elements = [(a, b) for a in Z3 for b in Z4]\n",
        "\n",
        "#операціія покомпонентного додавання\n",
        "def add(pair1, pair2):\n",
        "    a1, b1 = pair1\n",
        "    a2, b2 = pair2\n",
        "    return ((a1 + a2) % 3, (b1 + b2) % 4)\n",
        "\n",
        "\n",
        "mult_table = pd.DataFrame(columns=elements, index=elements)\n",
        "for x in elements:\n",
        "    mult_table[x] = [add(y, x) for y in elements]\n",
        "\n",
        "#Функція для знаходження порядку елемента\n",
        "\n",
        "def element_order(x, table):\n",
        "    \"\"\"\n",
        "    Повертає порядок елемента x у групі з таблицею Келі.\n",
        "    Порядок — це найменше додатне k, для якого x^k = нейтральний елемент.\n",
        "    Для нашої групи нейтральний елемент — (0,0).\n",
        "    \"\"\"\n",
        "    e = (0, 0)\n",
        "    result = x\n",
        "    order = 1\n",
        "    while result != e:\n",
        "        result = add(result, x)  # додаємо елемент до себе\n",
        "        order += 1\n",
        "    return order\n",
        "\n",
        "#Виводимо порядок кожного елемента\n",
        "\n",
        "for x in elements:\n",
        "    print(\"Order of {} equals {}\".format(x, element_order(x, mult_table)))\n"
      ]
    },
    {
      "cell_type": "markdown",
      "id": "e829720f",
      "metadata": {
        "id": "e829720f"
      },
      "source": [
        "4️⃣ Знайдіть усі підгрупи групи\n",
        "\n",
        "За теоремою Лагранжа можливими порядками підгруп можуть бути дільники порядку групи, тобто можливі порядки підгруп: 1,2,3,4,6,12\n",
        "\n",
        "Нижче наведено явні підгрупи в $\\mathbb{Z}_3\\times\\mathbb{Z}_4$ (нейтральний елемент $(0,0)$):\n",
        "\n",
        "- *Порядок 1:*\n",
        "  $$\n",
        "  H_1=\\{(0,0)\\}.\n",
        "  $$\n",
        "\n",
        "- *Порядок 2 (генерується елементом порядку 2, напр. $(0,2)$):*\n",
        "  $$\n",
        "  H_2=\\langle(0,2)\\rangle=\\{(0,0),(0,2)\\}\\cong \\mathbb{Z}_2.\n",
        "  $$\n",
        "\n",
        "- *Порядок 3 (генерується елементом порядку 3, напр. $(1,0)$):*\n",
        "  $$\n",
        "  H_3=\\langle(1,0)\\rangle=\\{(0,0),(1,0),(2,0)\\}\\cong \\mathbb{Z}_3.\n",
        "  $$\n",
        "\n",
        "- *Порядок 4 (генерується елементом порядку 4, напр. $(0,1)$):*\n",
        "  $$\n",
        "  H_4=\\langle(0,1)\\rangle=\\{(0,0),(0,1),(0,2),(0,3)\\}\\cong \\mathbb{Z}_4.\n",
        "  $$\n",
        "\n",
        "- *Порядок 6 (генерується елементом порядку 6, напр. $(1,2)$):*\n",
        "  $$\n",
        "  H_6=\\langle(1,2)\\rangle=\\{(0,0),(1,2),(2,0),(0,2),(1,0),(2,2)\\}\\cong \\mathbb{Z}_6.\n",
        "  $$\n",
        "\n",
        "- *Порядок 12 (вся група):*\n",
        "  $$\n",
        "  H_{12}=G=\\mathbb{Z}_3\\times\\mathbb{Z}_4=\\langle(1,1)\\rangle\\cong \\mathbb{Z}_{12}.\n",
        "  $$\n",
        "\n",
        "*Примітка:* Елемент $(1,1)$ має порядок $\\mathrm{lcm}(3,4)=12$ і є генератором $G$; тому підгрупа порядку $d$ — це $\\langle (12/d)\\cdot(1,1)\\rangle$.\n"
      ]
    },
    {
      "cell_type": "code",
      "execution_count": null,
      "id": "60aaf7dd",
      "metadata": {
        "id": "60aaf7dd"
      },
      "outputs": [
        {
          "name": "stdout",
          "output_type": "stream",
          "text": [
            "Subgroup, generated by (0, 1) = [(0, 0), (0, 1), (0, 2), (0, 3)]\n",
            "Subgroup, generated by (0, 2) = [(0, 0), (0, 2)]\n",
            "Subgroup, generated by (0, 3) = [(0, 0), (0, 3), (0, 2), (0, 1)]\n",
            "Subgroup, generated by (1, 0) = [(0, 0), (1, 0), (2, 0)]\n",
            "Subgroup, generated by (1, 1) = [(0, 0), (1, 1), (2, 2), (0, 3), (1, 0), (2, 1), (0, 2), (1, 3), (2, 0), (0, 1), (1, 2), (2, 3)]\n",
            "Subgroup, generated by (1, 2) = [(0, 0), (1, 2), (2, 0), (0, 2), (1, 0), (2, 2)]\n",
            "Subgroup, generated by (1, 3) = [(0, 0), (1, 3), (2, 2), (0, 1), (1, 0), (2, 3), (0, 2), (1, 1), (2, 0), (0, 3), (1, 2), (2, 1)]\n",
            "Subgroup, generated by (2, 0) = [(0, 0), (2, 0), (1, 0)]\n",
            "Subgroup, generated by (2, 1) = [(0, 0), (2, 1), (1, 2), (0, 3), (2, 0), (1, 1), (0, 2), (2, 3), (1, 0), (0, 1), (2, 2), (1, 3)]\n",
            "Subgroup, generated by (2, 2) = [(0, 0), (2, 2), (1, 0), (0, 2), (2, 0), (1, 2)]\n",
            "Subgroup, generated by (2, 3) = [(0, 0), (2, 3), (1, 2), (0, 1), (2, 0), (1, 3), (0, 2), (2, 1), (1, 0), (0, 3), (2, 2), (1, 1)]\n"
          ]
        }
      ],
      "source": [
        "import pandas as pd\n",
        "#групи Z3 × Z4\n",
        "Z3 = [0, 1, 2]\n",
        "Z4 = [0, 1, 2, 3]\n",
        "elements = [(a, b) for a in Z3 for b in Z4]\n",
        "\n",
        "#операціія покомпонентного додавання\n",
        "def add(pair1, pair2):\n",
        "    a1, b1 = pair1\n",
        "    a2, b2 = pair2\n",
        "    return ((a1 + a2) % 3, (b1 + b2) % 4)\n",
        "\n",
        "def cycle_subgroup(g):\n",
        "    \"\"\"\n",
        "    Возвращает список элементов подгруппы, порождённой элементом g в Z3×Z4.\n",
        "    То есть множество всех (k*g), пока не получится нейтральный элемент (0,0).\n",
        "    \"\"\"\n",
        "    e = (0, 0)         # нейтральный элемент\n",
        "    subgroup = [e]     # начинаем с нейтрального\n",
        "    x = e\n",
        "\n",
        "    while True:\n",
        "        x = add(x, g)  # прибавляем g к текущему значению\n",
        "        if x == e:     # если вернулись к нейтральному — конец цикла\n",
        "            break\n",
        "        subgroup.append(x)\n",
        "\n",
        "    return subgroup\n",
        "\n",
        "for x in elements[1:]:  # пропускаем нейтральный элемент (0,0)\n",
        "    print(\"Subgroup, generated by {} = {}\".format(x, cycle_subgroup(x)))\n",
        "\n",
        "\n"
      ]
    },
    {
      "cell_type": "code",
      "execution_count": null,
      "id": "2d596707",
      "metadata": {
        "id": "2d596707",
        "outputId": "1e61d9ef-7e37-4b98-cd1c-1f013c4a9464"
      },
      "outputs": [
        {
          "ename": "NameError",
          "evalue": "name 'S3' is not defined",
          "output_type": "error",
          "traceback": [
            "\u001b[31m---------------------------------------------------------------------------\u001b[39m",
            "\u001b[31mNameError\u001b[39m                                 Traceback (most recent call last)",
            "\u001b[36mCell\u001b[39m\u001b[36m \u001b[39m\u001b[32mIn[4]\u001b[39m\u001b[32m, line 1\u001b[39m\n\u001b[32m----> \u001b[39m\u001b[32m1\u001b[39m \u001b[38;5;28;01mfor\u001b[39;00m x \u001b[38;5;129;01min\u001b[39;00m \u001b[43mS3\u001b[49m[\u001b[32m1\u001b[39m:]:\n\u001b[32m      2\u001b[39m     \u001b[38;5;28mprint\u001b[39m(\u001b[33m\"\u001b[39m\u001b[33msubgroup, generated by \u001b[39m\u001b[38;5;132;01m{}\u001b[39;00m\u001b[33m = \u001b[39m\u001b[38;5;132;01m{}\u001b[39;00m\u001b[33m\"\u001b[39m.format(x,\n\u001b[32m      3\u001b[39m                                     cycle_subgroup(x, mult_table)))\n",
            "\u001b[31mNameError\u001b[39m: name 'S3' is not defined"
          ]
        }
      ],
      "source": [
        "for x in S3[1:]:\n",
        "    print(\"subgroup, generated by {} = {}\".format(x,\n",
        "                                    cycle_subgroup(x, mult_table)))\n"
      ]
    },
    {
      "cell_type": "markdown",
      "id": "e23dfd6d",
      "metadata": {
        "id": "e23dfd6d"
      },
      "source": [
        "<font color=\"red\"> *Коментар викладача:* <font>"
      ]
    },
    {
      "cell_type": "markdown",
      "id": "4ee36944",
      "metadata": {
        "id": "4ee36944"
      },
      "source": [
        "5️⃣ **Системою твірних $S$ групи $G$** називається така підмножина $S$ елементів групи $G$, що кожен елемент групи можна подати у вигляді скінченного добутку елементів $S$ та обернених до них.\n",
        "\n",
        "Система твірних визначена неоднозначно. Наприклад, для циклічної групи система твірних може складатися з одного елемента - будь-якого твірного цієї групи.\n",
        "\n",
        "Знайдіть систему твірних з якнайменшим числом елементів для групи.\n",
        "\n",
        "✔️ *Свої міркування напишіть тут.*\n",
        "\n",
        "\n",
        "Оскільки  \n",
        "$$\n",
        "\\gcd(3,4)=1,\n",
        "$$\n",
        "маємо  \n",
        "$$\n",
        "\\mathbb{Z}_3\\times \\mathbb{Z}_4 \\cong \\mathbb{Z}_{12},\n",
        "$$\n",
        "тобто група **циклічна**. Отже, **мінімальна кількість твірних — одна**.\n",
        "\n",
        "Достатньо взяти елемент  \n",
        "$$\n",
        "(1,1)\\in \\mathbb{Z}_3\\times \\mathbb{Z}_4,\n",
        "$$\n",
        "бо  \n",
        "$$\n",
        "\\operatorname{ord}(1\\bmod 3)=3,\\qquad \\operatorname{ord}(1\\bmod 4)=4,\n",
        "$$\n",
        "а тоді  \n",
        "$$\n",
        "\\operatorname{ord}((1,1))=\\mathrm{lcm}(3,4)=12,\n",
        "$$\n",
        "тож  \n",
        "$$\n",
        "\\langle (1,1)\\rangle=\\mathbb{Z}_3\\times\\mathbb{Z}_4.\n",
        "$$\n",
        "\n",
        "Тому шукану систему твірних з найменшою кількістю елементів можна взяти як  \n",
        "$$\n",
        "S=\\{(1,1)\\}.\n",
        "$$\n"
      ]
    },
    {
      "cell_type": "markdown",
      "id": "386bed1f",
      "metadata": {
        "id": "386bed1f"
      },
      "source": [
        "<font color=\"red\"> *Коментар викладача:* <font>"
      ]
    },
    {
      "cell_type": "markdown",
      "id": "3d388b3e",
      "metadata": {
        "id": "3d388b3e"
      },
      "source": [
        "6️⃣ Нехай $S$ - система твірних групи $G$. **Графом Келі групи $G$** називається орієнтований граф, вершинами якого є елементи групи, а орієнтоване ребро поєднує вершини $x$, $y$, якщо знайдеться такий елемент $s\\in S$, що $y = sx$ .\n",
        "\n",
        "Побудуйте граф Келлі групи. Використовуйте пакет networkx."
      ]
    },
    {
      "cell_type": "code",
      "execution_count": null,
      "id": "ed5567bb",
      "metadata": {
        "id": "ed5567bb"
      },
      "outputs": [
        {
          "data": {
            "image/png": "[encoded data removed]",
            "text/plain": [
              "<Figure size 800x600 with 1 Axes>"
            ]
          },
          "metadata": {},
          "output_type": "display_data"
        }
      ],
      "source": [
        "import networkx as nx\n",
        "import matplotlib.pyplot as plt\n",
        "\n",
        "Z3 = [0, 1, 2]\n",
        "Z4 = [0, 1, 2, 3]\n",
        "elements = [(a, b) for a in Z3 for b in Z4]\n",
        "\n",
        "def add(pair1, pair2):\n",
        "    a1, b1 = pair1\n",
        "    a2, b2 = pair2\n",
        "    return ((a1 + a2) % 3, (b1 + b2) % 4)\n",
        "\n",
        "# Система твірних\n",
        "\n",
        "S = [(1, 0), (0, 1)]  # твірні по кожній координаті\n",
        "\n",
        "\n",
        "# Створення графа Келі\n",
        "\n",
        "Cayley_graph = nx.DiGraph()\n",
        "Cayley_graph.add_nodes_from(elements)\n",
        "\n",
        "edge_colors = []\n",
        "for x in elements:\n",
        "    # Червоні ребра — додавання (1,0)\n",
        "    y = add((1, 0), x)\n",
        "    Cayley_graph.add_edge(x, y)\n",
        "    edge_colors.append(\"red\")\n",
        "\n",
        "    # Сині ребра — додавання (0,1)\n",
        "    y = add((0, 1), x)\n",
        "    Cayley_graph.add_edge(x, y)\n",
        "    edge_colors.append(\"blue\")\n",
        "\n",
        "layer1 = [(0, b) for b in Z4]\n",
        "layer2 = [(1, b) for b in Z4]\n",
        "layer3 = [(2, b) for b in Z4]\n",
        "\n",
        "pos1 = nx.drawing.layout.shell_layout(\n",
        "    Cayley_graph,\n",
        "    nlist=[layer1, layer2, layer3]\n",
        ")\n",
        "\n",
        "#Малювання графа\n",
        "\n",
        "plt.figure(figsize=(8, 6))\n",
        "nx.draw_networkx(\n",
        "    Cayley_graph,\n",
        "    with_labels=True,\n",
        "    node_color=\"skyblue\",\n",
        "    pos=pos1,\n",
        "    edge_color=edge_colors,\n",
        "    arrows=True,\n",
        "    node_size=900,\n",
        "    font_size=10\n",
        ")\n",
        "plt.title(\"Граф Келі для групи Z3 × Z4\\nчервоні ребра — дія (1,0), сині — дія (0,1)\")\n",
        "plt.axis(\"off\")\n",
        "plt.show()\n"
      ]
    },
    {
      "cell_type": "markdown",
      "id": "e7584a47",
      "metadata": {
        "id": "e7584a47"
      },
      "source": [
        "<font color=\"red\"> *Коментар викладача:* <font>"
      ]
    },
    {
      "cell_type": "markdown",
      "id": "42283071",
      "metadata": {
        "id": "42283071"
      },
      "source": [
        "### Завдання 3: задача з програмування"
      ]
    },
    {
      "cell_type": "markdown",
      "id": "f00da8f0",
      "metadata": {},
      "source": [
        "# Перевірка властивостей відношення на множині\n",
        "Ідея алгоритму\n",
        "Ввести множину A та відношення R як набір пар.\n",
        "Для кожної властивості реалізувати перевірку:\n",
        "   - **Рефлексивність**: перевіряємо, чи кожен елемент a in A має пару (a, a).\n",
        "   - **Симетричність**: для кожної пари a, b перевіряємо наявність (b, a).\n",
        "   - **Транзитивність**: якщо існують пари (a, b) і (b, c), перевіряємо, чи існує пара (a, c).\n",
        "Вивести результати для кожної властивості(так або ні, функції у нас повертають так чи ні).\n",
        "Побудувати орієнтований граф відношення за допомогою бібліотеки `networkx` для візуалізації структури R.\n",
        "\n",
        "Приклади: **Для зміни прикладу треба змінити мноджину та пари у коді**\n",
        "A = {1, 2, 3}\n",
        "R = {(1, 1), (2, 2), (3, 3), (1, 2), (2, 1)}\n",
        "повинно повертати true, true, flase бо відношення є рефлексивним, та симетричним, але не є транзитивним. \n",
        "\n",
        "2.\n",
        "A = {1, 2, 3}\n",
        "R = {(1, 1), (2, 2), (3, 3), (1, 2), (2, 3), (1, 3)}\n",
        "повинно повертати true, false, true бо відношення є рефлексивним та транзитивним, але не є симетричним. \n",
        "\n",
        "3. \n",
        "A = {1, 2, 3}\n",
        "R = {(1, 1), (2, 2), (3, 3),\n",
        "     (1, 2), (2, 1),\n",
        "     (2, 3), (3, 2),\n",
        "     (1, 3), (3, 1)}\n",
        "     \n",
        "поверне все true, бо це *відношення еквівалентності*\n"
      ]
    },
    {
      "cell_type": "markdown",
      "id": "670a63f4",
      "metadata": {},
      "source": [
        "Задача 1.8"
      ]
    },
    {
      "cell_type": "code",
      "execution_count": null,
      "id": "31db846b",
      "metadata": {
        "id": "31db846b"
      },
      "outputs": [
        {
          "name": "stdout",
          "output_type": "stream",
          "text": [
            "Множина A = {1, 2, 3}\n",
            "Відношення R = {(1, 2), (3, 3), (2, 1), (2, 2), (1, 1)}\n",
            "Рефлексивне: True\n",
            "Симетричне: True\n",
            "Транзитивне: True\n"
          ]
        }
      ],
      "source": [
        "# Приклад: множина = {1, 2, 3}\n",
        "# Відношення = {(1, 1), (2, 2), (3, 3), (1, 2), (2, 1)}\n",
        "A = {1, 2, 3}\n",
        "R = {(1, 1), (2, 2), (3, 3), (1, 2), (2, 1)}\n",
        "\n",
        "def is_reflexive(A, R):\n",
        "    for a in A:\n",
        "        if (a, a) not in R:\n",
        "            return False\n",
        "    return True\n",
        "\n",
        "def is_symmetric(R):\n",
        "    for (a, b) in R:\n",
        "        if (b, a) not in R:\n",
        "            return False\n",
        "    return True\n",
        "\n",
        "def is_transitive(R):\n",
        "    for (a, b) in R:\n",
        "        for (c, d) in R:\n",
        "            if b == c and (a, d) not in R:\n",
        "                return False\n",
        "    return True\n",
        "\n",
        "print(\"Множина A =\", A)\n",
        "print(\"Відношення R =\", R)\n",
        "print(\"Рефлексивне:\", is_reflexive(A, R))\n",
        "print(\"Симетричне:\", is_symmetric(R))\n",
        "print(\"Транзитивне:\", is_transitive(R))\n",
        "\n"
      ]
    },
    {
      "cell_type": "markdown",
      "id": "125a2ce9",
      "metadata": {
        "id": "125a2ce9"
      },
      "source": [
        "<font color=\"red\"> *Коментар викладача:* <font>"
      ]
    },
    {
      "cell_type": "markdown",
      "id": "c80fa2c4",
      "metadata": {
        "id": "c80fa2c4"
      },
      "source": [
        "### Завдання 4: додаткова задача"
      ]
    },
    {
      "cell_type": "markdown",
      "id": "29426faa",
      "metadata": {
        "id": "29426faa"
      },
      "source": [
        "Оберіть та розв'яжіть **одну** з додаткових задач 1.9, 2.12, 3.10, 4.13, 4.14, 5.9, 6.15, 7.15\n",
        "з аркушів для практичних занять (див. у Google Classroom)\n",
        "\n",
        "Якщо для розв'язку потрібні якісь пакети, окрім вказаних на початку блокноту, то вкажіть необхідні імпорти нижче."
      ]
    },
    {
      "cell_type": "code",
      "execution_count": null,
      "id": "8c2f9f1a",
      "metadata": {
        "id": "8c2f9f1a"
      },
      "outputs": [],
      "source": [
        "# write your imports here"
      ]
    },
    {
      "cell_type": "markdown",
      "id": "5e02e920",
      "metadata": {
        "id": "5e02e920"
      },
      "source": [
        "✔️ *Напишіть розв'язок тут.*"
      ]
    },
    {
      "cell_type": "markdown",
      "id": "41ba73a3",
      "metadata": {
        "id": "41ba73a3"
      },
      "source": [
        "<font color=\"red\"> *Коментар викладача:* <font>"
      ]
    }
  ],
  "metadata": {
    "colab": {
      "provenance": []
    },
    "kernelspec": {
      "display_name": "Python 3",
      "language": "python",
      "name": "python3"
    },
    "language_info": {
      "codemirror_mode": {
        "name": "ipython",
        "version": 3
      },
      "file_extension": ".py",
      "mimetype": "text/x-python",
      "name": "python",
      "nbconvert_exporter": "python",
      "pygments_lexer": "ipython3",
      "version": "3.12.8"
    }
  },
  "nbformat": 4,
  "nbformat_minor": 5
}
