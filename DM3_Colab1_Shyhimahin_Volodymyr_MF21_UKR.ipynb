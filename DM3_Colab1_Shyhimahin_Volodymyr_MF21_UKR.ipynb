{
  "cells": [
    {
      "cell_type": "markdown",
      "id": "85bcac6d",
      "metadata": {
        "id": "85bcac6d"
      },
      "source": [
        "# ДМ-3. Colab1. Template"
      ]
    },
    {
      "cell_type": "markdown",
      "id": "53246585",
      "metadata": {
        "id": "53246585"
      },
      "source": [
        "###  Ім'я Прізвище, група, варіант №\n"
      ]
    },
    {
      "cell_type": "code",
      "execution_count": null,
      "id": "971b26e2",
      "metadata": {
        "id": "971b26e2"
      },
      "outputs": [],
      "source": [
        "import numpy as np\n",
        "import pandas as pd\n",
        "import networkx as nx\n",
        "import matplotlib.pyplot as plt\n",
        "import math"
      ]
    },
    {
      "cell_type": "markdown",
      "id": "516a50cb",
      "metadata": {
        "id": "516a50cb"
      },
      "source": [
        "📕 Інструкція з [Markdown](https://www.markdownguide.org)\n",
        "\n",
        "📕 Короткий довідник з набору формул [$\\TeX$](https://ru.wikibooks.org/wiki/%D0%9C%D0%B0%D1%82%D0%B5%D0%BC%D0%B0%D1%82%D0%B8%D1%87%D0%B5%D1%81%D0%BA%D0%B8%D0%B5_%D1%84%D0%BE%D1%80%D0%BC%D1%83%D0%BB%D1%8B_%D0%B2_LaTeX)  "
      ]
    },
    {
      "cell_type": "markdown",
      "id": "e77fd73c",
      "metadata": {
        "id": "e77fd73c"
      },
      "source": [
        "**Користуватись ресурсами в інтернеті та штучним інтелектом не заборонено! Однак, якщо ви використовуєте код, довідкові матеріали з інтернету або літератури, штучний інтелект, ОБОВ'ЯЗКОВО вказуйте посилання на ці матеріали в коментарях! Інакше це буде розцінено як плагіат і завдання не буде зараховано. Також вказуйте, що саме для вас виконав штучний інтелект.**\n",
        "\n",
        "**Виконувати завдання слід САМОСТІЙНО. У разі виявлення однакових розв'язків роботи будуть анульовані!**\n",
        "\n",
        "**Для завдань 1, 2, 3 можна використовувати лише ті пакети, які вказано вище**"
      ]
    },
    {
      "cell_type": "markdown",
      "id": "196bd774",
      "metadata": {
        "id": "196bd774"
      },
      "source": [
        "### Завдання 1: відношення"
      ]
    },
    {
      "cell_type": "markdown",
      "id": "661f1d7a",
      "metadata": {
        "id": "661f1d7a"
      },
      "source": [
        "1️⃣  ✔️ *Знайдіть своє бінарне відношення $R$ у файлі з варіантами та вкажіть тут.*\n",
        "\n",
        "$$R=\\{(x, y)\\mid x\\leq y\\}$$\n",
        "\n",
        "Побудуйте графік бінарного відношення $R$. Використовуйте бібліотеку matplotlib.pyplot"
      ]
    },
    {
      "cell_type": "code",
      "execution_count": null,
      "id": "2970baf9",
      "metadata": {
        "id": "2970baf9",
        "outputId": "6f25530a-e0de-4ff1-a469-f723d545ae31"
      },
      "outputs": [
        {
          "data": {
            "image/png": "[encoded data removed]",
            "text/plain": [
              "<Figure size 600x600 with 1 Axes>"
            ]
          },
          "metadata": {},
          "output_type": "display_data"
        }
      ],
      "source": [
        "# Create a new figure\n",
        "# https://matplotlib.org/stable/api/_as_gen/matplotlib.pyplot.figure.html\n",
        "fig = plt.figure(figsize=(6, 6))\n",
        "\n",
        "# Axes is the contiainer for plot or other figure elements. There can be some axes in the only figure\n",
        "# https://matplotlib.org/stable/api/axes_api.html#\n",
        "ax = plt.gca()\n",
        "\n",
        "# Set x range and y\n",
        "x = np.arange(-10, 10, 0.1)\n",
        "y = x\n",
        "\n",
        "# Plotting\n",
        "ax.fill_between(x, -10, y)\n",
        "ax.set_title(\"Relation  graph\", fontsize=14)\n",
        "ax.grid(visible=True)"
      ]
    },
    {
      "cell_type": "markdown",
      "id": "8d9772b1",
      "metadata": {
        "id": "8d9772b1"
      },
      "source": [
        "<font color=\"red\"> *Коментар викладача:* <font>"
      ]
    },
    {
      "cell_type": "markdown",
      "id": "50a02df4",
      "metadata": {
        "id": "50a02df4"
      },
      "source": [
        "2️⃣  З'ясуйте, чи є $R$ рефлексивним, симетричним, транзитивним.\n",
        "\n",
        "✔️ *Відповіді й поянення запишіть тут.*\n",
        "\n",
        "$R$ рефлексивно, оскільки для кожного $x$ виконано $x\\leq x$.\n",
        "\n",
        "$R$ не є симетричним. Контрприклад: для $x=1, y=2$ виконано $1\\leq 2$, але $2\\not\\leq 1$.\n",
        "\n",
        "$R$ транзитивно, оскільки для всіх $x,y,z\\in\\mathbb{R}$ з $x\\leq y$, $y\\leq z$ випливає $x\\leq z$."
      ]
    },
    {
      "cell_type": "markdown",
      "id": "220e872d",
      "metadata": {
        "id": "220e872d"
      },
      "source": [
        "<font color=\"red\"> *Коментар викладача:* <font>"
      ]
    },
    {
      "cell_type": "markdown",
      "id": "5cf0e45a",
      "metadata": {
        "id": "5cf0e45a"
      },
      "source": [
        "3️⃣ ✔️ *Знайдіть свій чум $P$ у файлі з варіантами та вкажіть тут*\n",
        "\n",
        "$P -$ множина дільників числа 6, впорядкована за подільністю.\n",
        "\n",
        "Побудуйте діаграму Гассе $P$. Ви можете використовувати бібліотеку для роботи із графами networkx (https://networkx.org/documentation/stable/)"
      ]
    },
    {
      "cell_type": "markdown",
      "id": "62cce0ef",
      "metadata": {
        "id": "62cce0ef"
      },
      "source": [
        "*Якщо networkx не захоче малювати граф і видасть помилку random_state_index is incorrect, слід зменшити версію пакета decorator до 5.0.5. Якщо у вас Windows та Anaconda, то у вікні Anaconda Prompt достатньо набрати pip install decorator==5.0.5*"
      ]
    },
    {
      "cell_type": "code",
      "execution_count": null,
      "id": "4dcf18bf",
      "metadata": {
        "id": "4dcf18bf",
        "outputId": "b2d4166e-e369-4dbc-da5e-b74c62c4bff3"
      },
      "outputs": [
        {
          "data": {
            "image/png": "[encoded data removed]",
            "text/plain": [
              "<Figure size 640x480 with 1 Axes>"
            ]
          },
          "metadata": {},
          "output_type": "display_data"
        }
      ],
      "source": [
        "P = [1, 2, 3, 6, ] # elements of the poset\n",
        "order = [(2, 1), (3, 1), (6, 2), (6, 3)] # ordering: (y, x) means y covers x\n",
        "\n",
        "Hasse = nx.DiGraph()\n",
        "Hasse.add_nodes_from(P)\n",
        "Hasse.add_edges_from(order)\n",
        "\n",
        "# set the positions of nodes manually\n",
        "pos = {1: (0, 0), 2 : (-20, 20), 3 : (20, 20), 6: (0, 40)}\n",
        "\n",
        "# draw graph\n",
        "nx.draw_networkx(Hasse, with_labels=True, pos=pos, node_color=\"skyblue\")"
      ]
    },
    {
      "cell_type": "markdown",
      "id": "ac5b2ddb",
      "metadata": {
        "id": "ac5b2ddb"
      },
      "source": [
        "<font color=\"red\"> *Коментар викладача:* <font>"
      ]
    },
    {
      "cell_type": "markdown",
      "id": "02120c38",
      "metadata": {
        "id": "02120c38"
      },
      "source": [
        "4️⃣ Напишіть функцію для обчислення значень функції Мебіуса на $P$. Виведіть їх у вигляді таблиці.\n",
        "\n",
        "Ви можете використовувати пакет pandas (https://pandas.pydata.org/docs/user_guide/index.html)\n",
        "для створення та виведення таблиці.\n",
        "\n",
        "Вам можуть знадобитися інструменти пакету networkx для\n",
        "\n",
        "1) пошуку інтервалів у чум (див. networkx.algorithms.simple_paths.all_simple_paths)\n",
        "\n",
        "2) упорядкування вершин діаграми Гассе ''за рівнями'' (див. networkx.algorithms.traversal.breadth_first_search.bfs_tree)"
      ]
    },
    {
      "cell_type": "code",
      "execution_count": null,
      "id": "17b9b76a",
      "metadata": {
        "id": "17b9b76a"
      },
      "outputs": [],
      "source": [
        "# write your code here"
      ]
    },
    {
      "cell_type": "code",
      "execution_count": null,
      "id": "b39bb749",
      "metadata": {
        "scrolled": true,
        "id": "b39bb749",
        "outputId": "4b48a23c-3e96-4112-db76-a0cb4d825d37"
      },
      "outputs": [
        {
          "data": {
            "text/html": [
              "<div>\n",
              "<style scoped>\n",
              "    .dataframe tbody tr th:only-of-type {\n",
              "        vertical-align: middle;\n",
              "    }\n",
              "\n",
              "    .dataframe tbody tr th {\n",
              "        vertical-align: top;\n",
              "    }\n",
              "\n",
              "    .dataframe thead th {\n",
              "        text-align: right;\n",
              "    }\n",
              "</style>\n",
              "<table border=\"1\" class=\"dataframe\">\n",
              "  <thead>\n",
              "    <tr style=\"text-align: right;\">\n",
              "      <th></th>\n",
              "      <th>1</th>\n",
              "      <th>2</th>\n",
              "      <th>3</th>\n",
              "      <th>6</th>\n",
              "    </tr>\n",
              "  </thead>\n",
              "  <tbody>\n",
              "    <tr>\n",
              "      <th>1</th>\n",
              "      <td>1</td>\n",
              "      <td>-1</td>\n",
              "      <td>-1</td>\n",
              "      <td>1</td>\n",
              "    </tr>\n",
              "    <tr>\n",
              "      <th>2</th>\n",
              "      <td>0</td>\n",
              "      <td>1</td>\n",
              "      <td>0</td>\n",
              "      <td>-1</td>\n",
              "    </tr>\n",
              "    <tr>\n",
              "      <th>3</th>\n",
              "      <td>0</td>\n",
              "      <td>0</td>\n",
              "      <td>1</td>\n",
              "      <td>-1</td>\n",
              "    </tr>\n",
              "    <tr>\n",
              "      <th>6</th>\n",
              "      <td>0</td>\n",
              "      <td>0</td>\n",
              "      <td>0</td>\n",
              "      <td>1</td>\n",
              "    </tr>\n",
              "  </tbody>\n",
              "</table>\n",
              "</div>"
            ],
            "text/plain": [
              "   1   2   3   6\n",
              "1  1  -1  -1   1\n",
              "2  0   1   0  -1\n",
              "3  0   0   1  -1\n",
              "6  0   0   0   1"
            ]
          },
          "execution_count": 5,
          "metadata": {},
          "output_type": "execute_result"
        }
      ],
      "source": [
        "mobius_table(P, order)"
      ]
    },
    {
      "cell_type": "markdown",
      "id": "6e64c118",
      "metadata": {
        "id": "6e64c118"
      },
      "source": [
        "<font color=\"red\"> *Коментар викладача:* <font>"
      ]
    },
    {
      "cell_type": "markdown",
      "id": "818945e1",
      "metadata": {
        "id": "818945e1"
      },
      "source": [
        "### Завдання 2: групи"
      ]
    },
    {
      "cell_type": "markdown",
      "id": "72b01d3c",
      "metadata": {
        "id": "72b01d3c"
      },
      "source": [
        "✔️ *Свою групу знайдіть у файлі з варіантами та вкажіть тут*\n",
        "\n",
        "$S_3$ -- група підстановок 3 елементів"
      ]
    },
    {
      "cell_type": "markdown",
      "id": "3cea43b2",
      "metadata": {
        "id": "3cea43b2"
      },
      "source": [
        "1️⃣ Складіть таблицю множення.\n",
        "\n",
        "Ви можете використати бібліотеку pandas, щоб вивести таблицю у зручному вигляді\n",
        "\n",
        "Будь ласка, забезпечте розв'язок коментарями, як саме ви обчислюєте елементи таблиці (власноруч, подаючи підстановками,\n",
        "реалізуючи деяку функцію, знайшли готову в інтернеті тощо)"
      ]
    },
    {
      "cell_type": "code",
      "execution_count": null,
      "id": "978337f8",
      "metadata": {
        "id": "978337f8",
        "outputId": "4150cd56-7304-4d18-d53b-4eb20111ae61"
      },
      "outputs": [
        {
          "data": {
            "text/html": [
              "<div>\n",
              "<style scoped>\n",
              "    .dataframe tbody tr th:only-of-type {\n",
              "        vertical-align: middle;\n",
              "    }\n",
              "\n",
              "    .dataframe tbody tr th {\n",
              "        vertical-align: top;\n",
              "    }\n",
              "\n",
              "    .dataframe thead th {\n",
              "        text-align: right;\n",
              "    }\n",
              "</style>\n",
              "<table border=\"1\" class=\"dataframe\">\n",
              "  <thead>\n",
              "    <tr style=\"text-align: right;\">\n",
              "      <th></th>\n",
              "      <th>id</th>\n",
              "      <th>(12)</th>\n",
              "      <th>(23)</th>\n",
              "      <th>(13)</th>\n",
              "      <th>(123)</th>\n",
              "      <th>(132)</th>\n",
              "    </tr>\n",
              "  </thead>\n",
              "  <tbody>\n",
              "    <tr>\n",
              "      <th>id</th>\n",
              "      <td>id</td>\n",
              "      <td>(12)</td>\n",
              "      <td>(23)</td>\n",
              "      <td>(13)</td>\n",
              "      <td>(123)</td>\n",
              "      <td>(132)</td>\n",
              "    </tr>\n",
              "    <tr>\n",
              "      <th>(12)</th>\n",
              "      <td>(12)</td>\n",
              "      <td>id</td>\n",
              "      <td>(123)</td>\n",
              "      <td>(132)</td>\n",
              "      <td>(23)</td>\n",
              "      <td>(13)</td>\n",
              "    </tr>\n",
              "    <tr>\n",
              "      <th>(23)</th>\n",
              "      <td>(23)</td>\n",
              "      <td>(132)</td>\n",
              "      <td>id</td>\n",
              "      <td>(123)</td>\n",
              "      <td>(13)</td>\n",
              "      <td>(12)</td>\n",
              "    </tr>\n",
              "    <tr>\n",
              "      <th>(13)</th>\n",
              "      <td>(13)</td>\n",
              "      <td>(123)</td>\n",
              "      <td>(132)</td>\n",
              "      <td>id</td>\n",
              "      <td>(12)</td>\n",
              "      <td>(23)</td>\n",
              "    </tr>\n",
              "    <tr>\n",
              "      <th>(123)</th>\n",
              "      <td>(123)</td>\n",
              "      <td>(13)</td>\n",
              "      <td>(12)</td>\n",
              "      <td>(23)</td>\n",
              "      <td>(132)</td>\n",
              "      <td>id</td>\n",
              "    </tr>\n",
              "    <tr>\n",
              "      <th>(132)</th>\n",
              "      <td>(132)</td>\n",
              "      <td>(23)</td>\n",
              "      <td>(13)</td>\n",
              "      <td>(12)</td>\n",
              "      <td>id</td>\n",
              "      <td>(123)</td>\n",
              "    </tr>\n",
              "  </tbody>\n",
              "</table>\n",
              "</div>"
            ],
            "text/plain": [
              "          id   (12)   (23)   (13)  (123)  (132)\n",
              "id        id   (12)   (23)   (13)  (123)  (132)\n",
              "(12)    (12)     id  (123)  (132)   (23)   (13)\n",
              "(23)    (23)  (132)     id  (123)   (13)   (12)\n",
              "(13)    (13)  (123)  (132)     id   (12)   (23)\n",
              "(123)  (123)   (13)   (12)   (23)  (132)     id\n",
              "(132)  (132)   (23)   (13)   (12)     id  (123)"
            ]
          },
          "execution_count": 6,
          "metadata": {},
          "output_type": "execute_result"
        }
      ],
      "source": [
        "S3 = [\"id\", \"(12)\", \"(23)\", \"(13)\", \"(123)\", \"(132)\"]\n",
        "\n",
        "Cayley_table = pd.DataFrame(columns = S3, index=S3)\n",
        "\n",
        "# set elements by columns\n",
        "# Cayley_table.loc[x][y] = xy.\n",
        "# Multiplication as of permutations, that is right to left\n",
        "\n",
        "Cayley_table[\"id\"] = S3\n",
        "Cayley_table[\"(12)\"] = [\"(12)\", \"id\", \"(132)\", \"(123)\", \"(13)\", \"(23)\"]\n",
        "Cayley_table[\"(23)\"] = [\"(23)\", \"(123)\", \"id\", \"(132)\", \"(12)\", \"(13)\"]\n",
        "Cayley_table[\"(13)\"] = [\"(13)\", \"(132)\", \"(123)\", \"id\", \"(23)\", \"(12)\"]\n",
        "Cayley_table[\"(123)\"] = [\"(123)\", \"(23)\", \"(13)\", \"(12)\", \"(132)\", \"id\"]\n",
        "Cayley_table[\"(132)\"] = [\"(132)\", \"(13)\", \"(12)\", \"(23)\", \"id\", \"(123)\"]\n",
        "\n",
        "Cayley_table"
      ]
    },
    {
      "cell_type": "markdown",
      "id": "e824da1a",
      "metadata": {
        "id": "e824da1a"
      },
      "source": [
        "<font color=\"red\"> *Коментар викладача:* <font>"
      ]
    },
    {
      "cell_type": "markdown",
      "id": "762d7b67",
      "metadata": {
        "id": "762d7b67"
      },
      "source": [
        "2️⃣ Охарактеризуйте групу. Чому дорівнює її порядок? Чи є група абелевою? Чи є група циклічною?\n",
        "\n",
        "✔️ *Свої спостереження напишіть тут.*\n",
        "\n",
        "\n",
        "$S_3$ - група підстановок трьох елементів\n",
        "\n",
        "Порядок групи дорівнює $3!=6$.\n",
        "\n",
        "Група не є абелевою. Наприклад, $(12)(23) = (123)$, але $(23)(12) = (132)$.\n",
        "\n",
        "Група не є циклічною, оскільки немає елементу порядку 6 (див. обчислення порядків елементів далі)."
      ]
    },
    {
      "cell_type": "markdown",
      "id": "b3144f1c",
      "metadata": {
        "id": "b3144f1c"
      },
      "source": [
        "<font color=\"red\"> *Коментар викладача:* <font>"
      ]
    },
    {
      "cell_type": "markdown",
      "id": "8a8eb5c2",
      "metadata": {
        "id": "8a8eb5c2"
      },
      "source": [
        "3️⃣ Напишіть функцію, яка обчислює порядок елемента групи. Знайдіть порядки всіх елементів групи."
      ]
    },
    {
      "cell_type": "code",
      "execution_count": null,
      "id": "7e061ccf",
      "metadata": {
        "id": "7e061ccf"
      },
      "outputs": [],
      "source": [
        "# write your code here"
      ]
    },
    {
      "cell_type": "code",
      "execution_count": null,
      "id": "ae9af041",
      "metadata": {
        "id": "ae9af041",
        "outputId": "d1a219df-5f18-4ed3-9835-298d0f95b7f9"
      },
      "outputs": [
        {
          "name": "stdout",
          "output_type": "stream",
          "text": [
            "Order of id equals 1\n",
            "Order of (12) equals 2\n",
            "Order of (23) equals 2\n",
            "Order of (13) equals 2\n",
            "Order of (123) equals 3\n",
            "Order of (132) equals 3\n"
          ]
        }
      ],
      "source": [
        "for x in S3:\n",
        "    print(\"Order of {} equals {}\".format(x,  element_order(x, Cayley_table)))"
      ]
    },
    {
      "cell_type": "markdown",
      "id": "e829720f",
      "metadata": {
        "id": "e829720f"
      },
      "source": [
        "4️⃣ Знайдіть усі підгрупи групи\n",
        "\n",
        "✔️ *Свої міркування напишіть тут.*\n",
        "\n",
        "За теоремою Лагранжа можливими порядками підгруп можуть бути дільники порядку групи, тобто 1, 2, 3, 6.\n",
        "\n",
        "Підгрупа порядку 1 – тривіальна підгрупа $\\{id\\}$.\n",
        "\n",
        "Підгрупа порядку 6 - це група $S_3$.\n",
        "\n",
        "Підгрупи порядків 2 і 3 - групи простого порядку, отже, циклічні.\n",
        "Усі нетривіальні циклічні підгрупи перераховані нижче"
      ]
    },
    {
      "cell_type": "code",
      "execution_count": null,
      "id": "60aaf7dd",
      "metadata": {
        "id": "60aaf7dd"
      },
      "outputs": [],
      "source": [
        "# write your code here"
      ]
    },
    {
      "cell_type": "code",
      "execution_count": null,
      "id": "2d596707",
      "metadata": {
        "id": "2d596707",
        "outputId": "1e61d9ef-7e37-4b98-cd1c-1f013c4a9464"
      },
      "outputs": [
        {
          "name": "stdout",
          "output_type": "stream",
          "text": [
            "subgroup, generated by (12) = ['id', '(12)']\n",
            "subgroup, generated by (23) = ['id', '(23)']\n",
            "subgroup, generated by (13) = ['id', '(13)']\n",
            "subgroup, generated by (123) = ['id', '(123)', '(132)']\n",
            "subgroup, generated by (132) = ['id', '(132)', '(123)']\n"
          ]
        }
      ],
      "source": [
        "for x in S3[1:]:\n",
        "    print(\"subgroup, generated by {} = {}\".format(x,\n",
        "                                    cycle_subgroup(x, Cayley_table)))\n"
      ]
    },
    {
      "cell_type": "markdown",
      "id": "e23dfd6d",
      "metadata": {
        "id": "e23dfd6d"
      },
      "source": [
        "<font color=\"red\"> *Коментар викладача:* <font>"
      ]
    },
    {
      "cell_type": "markdown",
      "id": "4ee36944",
      "metadata": {
        "id": "4ee36944"
      },
      "source": [
        "5️⃣ **Системою твірних $S$ групи $G$** називається така підмножина $S$ елементів групи $G$, що кожен елемент групи можна подати у вигляді скінченного добутку елементів $S$ та обернених до них.\n",
        "\n",
        "Система твірних визначена неоднозначно. Наприклад, для циклічної групи система твірних може складатися з одного елемента - будь-якого твірного цієї групи.\n",
        "\n",
        "Знайдіть систему твірних з якнайменшим числом елементів для групи.\n",
        "\n",
        "✔️ *Свої міркування напишіть тут.*\n",
        "\n",
        "Оскільки $S_3$ не є циклічною, система твірних складається щонайменше з двох елементів. Покажемо, що множина $(12), (123)$ є системою твірних.\n",
        "\n",
        "Справді (див. таблицю множення):\n",
        "\n",
        "$id= (12)(12)$\n",
        "\n",
        "$ (12) = (12) $\n",
        "\n",
        "$(23)= (12)(123)$\n",
        "\n",
        "$(13)= (123)(12)$\n",
        "\n",
        "$ (123) = (123) $\n",
        "\n",
        "$(132)= (123)(123)$"
      ]
    },
    {
      "cell_type": "markdown",
      "id": "386bed1f",
      "metadata": {
        "id": "386bed1f"
      },
      "source": [
        "<font color=\"red\"> *Коментар викладача:* <font>"
      ]
    },
    {
      "cell_type": "markdown",
      "id": "3d388b3e",
      "metadata": {
        "id": "3d388b3e"
      },
      "source": [
        "6️⃣ Нехай $S$ - система твірних групи $G$. **Графом Келі групи $G$** називається орієнтований граф, вершинами якого є елементи групи, а орієнтоване ребро поєднує вершини $x$, $y$, якщо знайдеться такий елемент $s\\in S$, що $y = sx$ .\n",
        "\n",
        "Побудуйте граф Келлі групи. Використовуйте пакет networkx."
      ]
    },
    {
      "cell_type": "code",
      "execution_count": null,
      "id": "ed5567bb",
      "metadata": {
        "id": "ed5567bb"
      },
      "outputs": [],
      "source": [
        "# write your code here"
      ]
    },
    {
      "cell_type": "code",
      "execution_count": null,
      "id": "350bf351",
      "metadata": {
        "scrolled": false,
        "id": "350bf351",
        "outputId": "dfd63683-ab4b-42b4-ca49-0a0cb506d385"
      },
      "outputs": [
        {
          "data": {
            "image/png": "[encoded data removed]",
            "text/plain": [
              "<Figure size 640x480 with 1 Axes>"
            ]
          },
          "metadata": {},
          "output_type": "display_data"
        }
      ],
      "source": [
        "# red edges -- multiplication by (12)\n",
        "# blue edges -- multiplication by (123)\n",
        "\n",
        "#nodes positions\n",
        "pos1 = nx.drawing.layout.shell_layout(Cayley_graph,\n",
        "                                      nlist=[[\"id\", \"(123)\", \"(132)\"],\n",
        "                                            [\"(12)\", \"(13)\", \"(23)\"]])\n",
        "\n",
        "nx.draw_networkx(Cayley_graph, with_labels=True, node_color=\"skyblue\", pos=pos1, edge_color = edge_colors)"
      ]
    },
    {
      "cell_type": "markdown",
      "id": "e7584a47",
      "metadata": {
        "id": "e7584a47"
      },
      "source": [
        "<font color=\"red\"> *Коментар викладача:* <font>"
      ]
    },
    {
      "cell_type": "markdown",
      "id": "42283071",
      "metadata": {
        "id": "42283071"
      },
      "source": [
        "### Завдання 3: задача з програмування"
      ]
    },
    {
      "cell_type": "markdown",
      "id": "b1726700",
      "metadata": {
        "id": "b1726700"
      },
      "source": [
        "Оберіть та розв'яжіть **одну** з задач для програмування 1.8, 2.11, 5.8, 6.13, 7.13, 7.14\n",
        "з аркушів для практичних занять (див. у Google Classroom)"
      ]
    },
    {
      "cell_type": "code",
      "execution_count": null,
      "id": "31db846b",
      "metadata": {
        "id": "31db846b"
      },
      "outputs": [],
      "source": [
        "#write your code here"
      ]
    },
    {
      "cell_type": "markdown",
      "id": "125a2ce9",
      "metadata": {
        "id": "125a2ce9"
      },
      "source": [
        "<font color=\"red\"> *Коментар викладача:* <font>"
      ]
    },
    {
      "cell_type": "markdown",
      "id": "c80fa2c4",
      "metadata": {
        "id": "c80fa2c4"
      },
      "source": [
        "### Завдання 4: додаткова задача"
      ]
    },
    {
      "cell_type": "markdown",
      "id": "29426faa",
      "metadata": {
        "id": "29426faa"
      },
      "source": [
        "Оберіть та розв'яжіть **одну** з додаткових задач 1.9, 2.12, 3.10, 4.13, 4.14, 5.9, 6.15, 7.15\n",
        "з аркушів для практичних занять (див. у Google Classroom)\n",
        "\n",
        "Якщо для розв'язку потрібні якісь пакети, окрім вказаних на початку блокноту, то вкажіть необхідні імпорти нижче."
      ]
    },
    {
      "cell_type": "code",
      "execution_count": null,
      "id": "8c2f9f1a",
      "metadata": {
        "id": "8c2f9f1a"
      },
      "outputs": [],
      "source": [
        "# write your imports here"
      ]
    },
    {
      "cell_type": "markdown",
      "id": "5e02e920",
      "metadata": {
        "id": "5e02e920"
      },
      "source": [
        "✔️ *Напишіть розв'язок тут.*"
      ]
    },
    {
      "cell_type": "markdown",
      "id": "41ba73a3",
      "metadata": {
        "id": "41ba73a3"
      },
      "source": [
        "<font color=\"red\"> *Коментар викладача:* <font>"
      ]
    }
  ],
  "metadata": {
    "kernelspec": {
      "display_name": "Python 3 (ipykernel)",
      "language": "python",
      "name": "python3"
    },
    "language_info": {
      "codemirror_mode": {
        "name": "ipython",
        "version": 3
      },
      "file_extension": ".py",
      "mimetype": "text/x-python",
      "name": "python",
      "nbconvert_exporter": "python",
      "pygments_lexer": "ipython3",
      "version": "3.8.17"
    },
    "colab": {
      "provenance": []
    }
  },
  "nbformat": 4,
  "nbformat_minor": 5
}